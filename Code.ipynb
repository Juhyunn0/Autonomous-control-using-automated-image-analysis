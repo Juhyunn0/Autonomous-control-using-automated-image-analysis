{
  "nbformat": 4,
  "nbformat_minor": 0,
  "metadata": {
    "colab": {
      "provenance": [],
      "authorship_tag": "ABX9TyNLs+emgxIRDM5h8g5AHoPo",
      "include_colab_link": true
    },
    "kernelspec": {
      "name": "python3",
      "display_name": "Python 3"
    },
    "language_info": {
      "name": "python"
    }
  },
  "cells": [
    {
      "cell_type": "markdown",
      "metadata": {
        "id": "view-in-github",
        "colab_type": "text"
      },
      "source": [
        "<a href=\"https://colab.research.google.com/github/Juhyunn0/Autonomous-control-using-automated-image-analysis/blob/main/Code.ipynb\" target=\"_parent\"><img src=\"https://colab.research.google.com/assets/colab-badge.svg\" alt=\"Open In Colab\"/></a>"
      ]
    },
    {
      "cell_type": "code",
      "execution_count": null,
      "metadata": {
        "id": "jjXVKSVV0cx2"
      },
      "outputs": [],
      "source": [
        "from google.colab import drive\n",
        "import os\n",
        "drive.mount('/content/drive')"
      ]
    },
    {
      "cell_type": "code",
      "source": [
        "! pip install pyserial"
      ],
      "metadata": {
        "id": "e1268Sns0hzi"
      },
      "execution_count": null,
      "outputs": []
    },
    {
      "cell_type": "code",
      "source": [
        "import time\n",
        "from watchdog.observers import Observer\n",
        "from watchdog.events import FileSystemEventHandler\n",
        "import os\n",
        "import cv2\n",
        "import numpy as np\n",
        "import math\n",
        "import serial\n",
        "from matplotlib.animation import FuncAnimation\n",
        "import matplotlib.pyplot as plt\n",
        "from core import connect\n",
        "from IPython import display\n",
        "import pandas as pd\n",
        "\n",
        "JJ_path = '/content/drive/MyDrive/Amour_R&D_Juhyun_Jung(JJ)'\n",
        "path = JJ_path\n",
        "\n",
        "os.chdir('/content/drive/MyDrive/Amour_R&D_Juhyun_Jung(JJ)')"
      ],
      "metadata": {
        "id": "okjKXLZa0ja6"
      },
      "execution_count": null,
      "outputs": []
    },
    {
      "cell_type": "markdown",
      "source": [
        "# 1. Check the HSV values"
      ],
      "metadata": {
        "id": "Scv7PTEr02pZ"
      }
    },
    {
      "cell_type": "code",
      "source": [
        "def get_HSV_in_image(event, x, y, flags, param):\n",
        "    if event == cv2.EVENT_LBUTTONUP:\n",
        "        hsv_image = cv2.cvtColor(param['image'], cv2.COLOR_BGR2HSV)\n",
        "        hsv_value = hsv_image[y, x, :]\n",
        "        print(\"HSV values at clicked point: Hue={}, Saturation={}, Value={}\".format(hsv_value[0], hsv_value[1], hsv_value[2]))\n",
        "\n",
        "    if event == cv2.EVENT_RBUTTONUP:\n",
        "        threshold = 20\n",
        "        bgr_value = param['image'][y, x, :]\n",
        "        lower = np.array([max(0, bgr_value[0] - threshold),\n",
        "                          max(0, bgr_value[1] - threshold),\n",
        "                          max(0, bgr_value[2] - threshold)])\n",
        "        upper = np.array([min(255, bgr_value[0] + threshold),\n",
        "                          min(255, bgr_value[1] + threshold),\n",
        "                          min(255, bgr_value[2] + threshold)])\n",
        "        mask = cv2.inRange(param['image'], lower, upper)\n",
        "        range_image = cv2.bitwise_and(param['image'], param['image'], mask=mask)\n",
        "        cv2.imshow(\"range_image\", range_image)\n",
        "        cv2.waitKey(0)\n",
        "\n",
        "origin_image = cv2.imread(\"C:\\\\Users\\\\Nikonb\\\\Python code\\\\data\\\\testimage5.jpg\")\n",
        "\n",
        "param = {\n",
        "    'image': origin_image\n",
        "}\n",
        "cv2.imshow('image', origin_image)\n",
        "cv2.setMouseCallback('image', get_HSV_in_image, param)\n",
        "cv2.waitKey(0)\n",
        "cv2.destroyAllWindows()"
      ],
      "metadata": {
        "id": "O2CW7HeH0oX1"
      },
      "execution_count": null,
      "outputs": []
    },
    {
      "cell_type": "markdown",
      "source": [
        "# 2. Image processing"
      ],
      "metadata": {
        "id": "pRTvBmZtPbt1"
      }
    },
    {
      "cell_type": "code",
      "source": [
        "def process_image(image_path, counter, formatted_time_info, curr_image):\n",
        "    max_attempts = 10\n",
        "    attempt = 0\n",
        "    wait_time = 0.5\n",
        "\n",
        "    next_image = None\n",
        "    while attempt < max_attempts:\n",
        "        next_image = cv2.imread(image_path)\n",
        "        if next_image is not None:\n",
        "            break\n",
        "        attempt += 1\n",
        "        time.sleep(wait_time)\n",
        "\n",
        "    if next_image is None:\n",
        "        print(f\"Error: Unable to read the image file {image_path} after {max_attempts} attempts\")\n",
        "        return\n",
        "\n",
        "    if curr_image is None:\n",
        "        curr_image = next_image\n",
        "        cell_count = 0\n",
        "    else:\n",
        "        diff = cv2.absdiff(curr_image, next_image)\n",
        "        diff_rgb = cv2.cvtColor(diff, cv2.COLOR_BGR2RGB)\n",
        "        diff_image_path = f\"{save_path}0. Difference two Images/diff_image  {formatted_time_info} seconds.jpg\"\n",
        "        cv2.imwrite(diff_image_path, diff)\n",
        "        hsv = cv2.cvtColor(diff, cv2.COLOR_BGR2HSV)\n",
        "        lower_color = np.array([0, 0, 24])\n",
        "        upper_color = np.array([0,0,150])\n",
        "\n",
        "        mask = cv2.inRange(hsv, lower_color, upper_color)\n",
        "        result = cv2.bitwise_and(diff_rgb, diff_rgb, mask=mask)\n",
        "        gray = cv2.cvtColor(result, cv2.COLOR_BGR2GRAY)\n",
        "        cnts = cv2.findContours(gray, cv2.RETR_EXTERNAL, cv2.CHAIN_APPROX_SIMPLE)\n",
        "        cnts = cnts[0] if len(cnts) == 2 else cnts[1]\n",
        "\n",
        "        min_contour_area = 0.1\n",
        "        max_contour_area = 10000  # maximum area\n",
        "        cell_count = 0\n",
        "        font_scale = 0.5\n",
        "\n",
        "        for i, c in enumerate(cnts):\n",
        "            area = cv2.contourArea(c)\n",
        "            if min_contour_area <= area <= max_contour_area:\n",
        "                cell_count += 1\n",
        "                cv2.drawContours(result, [c], -1, (0, 255, 0), 2)\n",
        "                M = cv2.moments(c)\n",
        "                if M[\"m10\"] != 0 and M[\"m00\"] != 0:\n",
        "                    cX = int(M[\"m10\"] / M[\"m00\"])\n",
        "                    cY = int(M[\"m01\"] / M[\"m00\"])\n",
        "                    # Display area of the contour\n",
        "                    cv2.putText(result, f\"Area: {area}\", (cX - 50, cY - 20),\n",
        "                                cv2.FONT_HERSHEY_SIMPLEX, font_scale, (255, 255, 255), 2)\n",
        "                    # Display count centered at the centroid of the contour\n",
        "                    cv2.putText(result, f\"Count: {cell_count}\", (cX - 30, cY + 30),\n",
        "                                cv2.FONT_HERSHEY_SIMPLEX, font_scale, (255, 255, 255), 2)\n",
        "\n",
        "        print(f\"Number of cells: {cell_count}\")\n",
        "\n",
        "        alpha = 1\n",
        "        beta = 1\n",
        "        combined_image = cv2.addWeighted(diff, alpha, result, beta, 0)\n",
        "        combined_image_path = f\"{save_path}3. Combined Images/combined_image  {formatted_time_info} seconds.jpg\"\n",
        "        cv2.imwrite(combined_image_path, combined_image)\n",
        "\n",
        "\n",
        "    original_image_path = f\"{save_path}1. Original Images/original_image  {formatted_time_info} seconds.jpg\"\n",
        "    cv2.imwrite(original_image_path, next_image)\n",
        "    return cell_count,next_image"
      ],
      "metadata": {
        "id": "eUK60-dhPany"
      },
      "execution_count": 1,
      "outputs": []
    },
    {
      "cell_type": "markdown",
      "source": [
        "# 3. Save Data"
      ],
      "metadata": {
        "id": "3n_ymyVTPttj"
      }
    },
    {
      "cell_type": "code",
      "source": [
        "def save_data(time_lst, data,name,file_name):\n",
        "    start = len(time_lst)-len(data)\n",
        "    df = pd.DataFrame({\n",
        "      'Time':time_lst[start:],\n",
        "      name:data\n",
        "    })\n",
        "    df.to_csv(save_path+'csv files/'+f'{month}{day}_'+name+f'{file_name}.csv', index=False)"
      ],
      "metadata": {
        "id": "5HwdkpUZPtk8"
      },
      "execution_count": null,
      "outputs": []
    },
    {
      "cell_type": "markdown",
      "source": [
        "# 4 Final Code"
      ],
      "metadata": {
        "id": "PQneXnvC06Nt"
      }
    },
    {
      "cell_type": "code",
      "source": [
        "Lab_path = \"C:/Users/Nikonb/Python code/\"\n",
        "JJ_path = \"C:/Users/juhye/Nikonb/Python code/\"\n",
        "save_path = Lab_path\n",
        "\n",
        "# Get today's date\n",
        "today = datetime.now()\n",
        "\n",
        "# Extract the month and day\n",
        "month = today.strftime(\"%m\")  # Full month name\n",
        "day = today.day               # Day of the month\n",
        "\n",
        "class ImageHandler(FileSystemEventHandler):\n",
        "    def __init__(self):\n",
        "        super().__init__()\n",
        "        self.cell_count = 0\n",
        "        self.Kp = 0.04\n",
        "        self.Ki = 0.03\n",
        "        self.Kd = 0.02\n",
        "        # Initialize variables\n",
        "        self.prev_error = 0\n",
        "        self.integral = 0\n",
        "\n",
        "        # Initialize pump connection\n",
        "        self.portinfo = connect.getOpenPorts()\n",
        "        self.baudrate = 9600\n",
        "        self.conn = connect.Connection(port=str(self.portinfo[-1]), baudrate=self.baudrate, x=0, mode=0)\n",
        "\n",
        "        # Open Connection to pump\n",
        "        self.conn.openConnection()\n",
        "\n",
        "        # Setup parameters for basic run\n",
        "        self.units = 'μL/min'  # Flow rate units\n",
        "        self.diameter = 4.66   # Syringe diameter in mm\n",
        "        self.volume = 330     # Volume to dispense in μL\n",
        "        self.delay = 0.0       # Delay in seconds\n",
        "\n",
        "        # Communicate parameters to pump\n",
        "        self.conn.setUnits(self.units)\n",
        "        self.conn.setDiameter(self.diameter)\n",
        "        self.conn.setVolume(self.volume)\n",
        "        self.conn.setDelay(self.delay)\n",
        "\n",
        "        # Start pump\n",
        "        self.conn.startPump()\n",
        "\n",
        "        self.desired_bead_count = 3  # Example desired number of beads\n",
        "        self.flowrate= 1.5\n",
        "        self.cell_count = 0\n",
        "        self.flowrate_lst = [self.flowrate]\n",
        "        self.beads_lst = []\n",
        "        self.time_list = []\n",
        "        self.start_time = time.time()\n",
        "        current_time = time.time() - self.start_time\n",
        "        self.time_list.append(current_time)\n",
        "        self.conn.setRate(self.flowrate) # initial flow rate\n",
        "        self.curr_image = None\n",
        "        self.counter = 0\n",
        "        self.upcounter =0\n",
        "\n",
        "\n",
        "    def on_created(self, event):\n",
        "        if event.is_directory:\n",
        "            return None\n",
        "        elif event.src_path.endswith(('.jpg', '.jpeg', '.png', '.bmp', '.gif')):\n",
        "\n",
        "            print(f'self.counter : {self.counter}')\n",
        "            print(f'len(self.time_lst) : {len(self.time_list)}')\n",
        "            formatted_time = time.strftime(\"%Y-%m-%d %H;%M;%S\", time.localtime(time.time()))\n",
        "            print(f\"{self.counter}th image detected  \", formatted_time)\n",
        "            self.counter = self.counter+1\n",
        "              # time list\n",
        "            current_time = time.time() - self.start_time\n",
        "            self.time_list.append(current_time)\n",
        "              # count the number of beads\n",
        "            self.cell_count, self.curr_image = process_image(event.src_path, self.counter, current_time, self.curr_image)\n",
        "            self.beads_lst.append(self.cell_count)\n",
        "\n",
        "\n",
        "            # PID control\n",
        "            print(f'current flow rate : {self.flowrate}')\n",
        "            self.error = self.desired_bead_count - self.cell_count\n",
        "\n",
        "            if self.counter%5==0: #reset integral and derivative\n",
        "                self.integral=0\n",
        "                self.derivative=0\n",
        "            if self.error>7:\n",
        "                self.error = 3\n",
        "            self.integral += self.error\n",
        "            self.derivative = self.error - self.prev_error\n",
        "            print(f\"error: {self.error}, \"\n",
        "                  f\"self.error: {self.error} | self.integral: {self.integral} | self.derivative : {self.derivative}, \\n\"\n",
        "                  f\"So, {self.flowrate} + {self.Kp * self.error + self.Ki * self.integral + self.Kd * self.derivative} = \"\n",
        "                  f\"{self.Kp * self.error + self.Ki * self.integral + self.Kd * self.derivative + self.flowrate}\")\n",
        "            self.flowrate = self.flowrate + self.Kp * self.error + self.Ki * self.integral + self.Kd * self.derivative\n",
        "            print(f\"before clip : {self.flowrate}\", end=' | ')\n",
        "            # saturation\n",
        "            lower_boundary = 0.3\n",
        "            upper_boundary = 5\n",
        "            self.flowrate = np.clip(self.flowrate, lower_boundary,upper_boundary)\n",
        "            print(f\"after clip : {self.flowrate}\")\n",
        "            self.prev_error = self.error\n",
        "\n",
        "#             self.flowrate = 1.5\n",
        "            self.flowrate_lst.append(self.flowrate)\n",
        "\n",
        "          # apply for syringe pump\n",
        "            self.conn.setRate(self.flowrate)\n",
        "\n",
        "            # plot the graph\n",
        "            fig, (ax1, ax2) = plt.subplots(1, 2, figsize=(15, 5))\n",
        "            ax1.plot(self.time_list[1:],self.beads_lst[:],'r',label='#beads')\n",
        "            ax1.scatter(self.time_list[1:],self.beads_lst[:],color='r')\n",
        "            ax1.set_xlabel('time')\n",
        "            ax1.set_ylabel('the number of beads')\n",
        "            ax1.set_ylim(-0.2,15)\n",
        "            ax1.axhline(self.desired_bead_count,color='black',linestyle='dashed',label='Objective')\n",
        "            ax1.legend()\n",
        "\n",
        "            ax2.plot(self.time_list[:],self.flowrate_lst[:],'r',label='output')\n",
        "            ax2.scatter(self.time_list[:],self.flowrate_lst[:],color='r')\n",
        "#             ax2.set_ylim(0.2,2.2)\n",
        "            # plt.axhline(0,color='black',linestyle='dashed')\n",
        "            ax2.set_xlabel('time')\n",
        "            ax2.set_ylabel('flow rate')\n",
        "            ax2.legend()\n",
        "            plt.show()\n",
        "            print('-' * 50)\n",
        "            if self.counter%10==0:\n",
        "                display.clear_output(wait=True)\n",
        "\n",
        "            # save file\n",
        "            if len(self.time_list) == 120:\n",
        "                self.conn.setRate(0.3)\n",
        "                file_name = f'_{self.Kp},{self.Ki},{self.Kd},[{lower_boundary},{upper_boundary}],'+str(input('Enter wait time : '))+'second'\n",
        "                save_data(self.time_list,self.beads_lst,'beads',file_name)\n",
        "                save_data(self.time_list,self.flowrate_lst,'flow rate',file_name)\n",
        "                print('Saved')\n",
        "            os.remove(event.src_path)  # delete image\n",
        "\n",
        "if __name__ == \"__main__\":\n",
        "    path = f\"{save_path}data\"\n",
        "    event_handler = ImageHandler()\n",
        "    observer = Observer()\n",
        "    observer.schedule(event_handler, path, recursive=False)\n",
        "    observer.start()\n",
        "\n",
        "    try:\n",
        "        while True:\n",
        "            time.sleep(1)\n",
        "    except KeyboardInterrupt:\n",
        "        observer.stop()\n",
        "    observer.join()"
      ],
      "metadata": {
        "id": "HnlgczMA074P"
      },
      "execution_count": null,
      "outputs": []
    },
    {
      "cell_type": "markdown",
      "source": [
        "#"
      ],
      "metadata": {
        "id": "xNX0x_es1Bdm"
      }
    }
  ]
}